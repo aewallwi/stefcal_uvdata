{
 "cells": [
  {
   "cell_type": "markdown",
   "metadata": {},
   "source": [
    "In this notebook, we investigate the ability of properly weighted stefcal to suppress fine frequency structure in the calibration solution."
   ]
  },
  {
   "cell_type": "code",
   "execution_count": 1,
   "metadata": {
    "collapsed": true
   },
   "outputs": [],
   "source": [
    "%matplotlib inline\n",
    "import numpy as np\n",
    "import matplotlib.pyplot as plt\n",
    "import os\n",
    "from stefcal_uvdata import StefcalUVData\n",
    "from data import DATA_PATH\n",
    "import matplotlib.pyplot as plt\n",
    "import delayGridding as dg\n",
    "import stefcal_utils as suv\n",
    "import copy"
   ]
  },
  {
   "cell_type": "code",
   "execution_count": 2,
   "metadata": {
    "collapsed": true
   },
   "outputs": [],
   "source": [
    "#initialize stefcal object \n",
    "complete_vis_path=os.path.join(DATA_PATH,\n",
    "                               'mwa_complete/mwa_complete/'\n",
    "                               '2017-05-31-20-47-15/simdata/simvis-noiseless.uvfits')\n",
    "complete_vis_noisy_path=os.path.join(DATA_PATH,\n",
    "                                      'mwa_complete/mwa_complete/'\n",
    "                                      '2017-05-31-20-47-15/simdata/simvis-noisy.uvfits')\n",
    "incomplete_vis_path=os.path.join(DATA_PATH,\n",
    "                                 'mwa_incomplete/mwa_incomplete/'\n",
    "                                 '2017-05-31-20-44-17/simdata/simvis-noiseless.uvfits')\n",
    "incomplete_vis_noisy_path=os.path.join(DATA_PATH,\n",
    "                                       'mwa_incomplete/mwa_incomplete/'\n",
    "                                       '2017-05-31-20-44-17/simdata/simvis-noisy.uvfits')"
   ]
  },
  {
   "cell_type": "markdown",
   "metadata": {},
   "source": [
    "Initialize a uvdata set with the model equal to the data to derive perfect calibration solutions from."
   ]
  },
  {
   "cell_type": "code",
   "execution_count": 3,
   "metadata": {
    "collapsed": false
   },
   "outputs": [],
   "source": [
    "stefcal_perfect=StefcalUVData()\n",
    "stefcal_perfect.from_uvfits(complete_vis_path,complete_vis_path,\n",
    "                           flag_weights_fromdata=True)    \n",
    "\n",
    "stefcal_perfect.measured_vis.data_array=stefcal_perfect.measured_vis.data_array.astype('complex128')\n",
    "stefcal_perfect.model_vis.data_array=stefcal_perfect.model_vis.data_array.astype('complex128')\n",
    "\n",
    "freqs=stefcal_perfect.measured_vis.freq_array\n",
    "npol=stefcal_perfect.measured_vis.Npols\n",
    "nant=stefcal_perfect.measured_vis.Nants_data"
   ]
  },
  {
   "cell_type": "markdown",
   "metadata": {},
   "source": [
    "Simulate some gains with reflections."
   ]
  },
  {
   "cell_type": "code",
   "execution_count": 4,
   "metadata": {
    "collapsed": false
   },
   "outputs": [],
   "source": [
    "gains=np.ones_like(stefcal_perfect.uvcal.gain_array)\n",
    "mean_amp=1e-1\n",
    "std_amp=5e-2\n",
    "amps=np.abs(np.random.randn(nant,npol)*std_amp+mean_amp)\n",
    "mean_delay=200e-9\n",
    "std_delay=30e-9\n",
    "delays=np.abs(np.random.randn(nant,npol)*std_delay+mean_delay)\n",
    "phases=np.random.rand(nant,npol)\n",
    "for pol in range(npol):\n",
    "    for ant in range(nant):\n",
    "        d=delays[ant,pol].squeeze()\n",
    "        a=amps[ant,pol].squeeze()\n",
    "        p=phases[ant,pol].squeeze()\n",
    "        gains[ant,0,:,0,pol]=1./(1.+a*np.exp(2j*np.pi*(freqs*d+p)))\n",
    "#set the reference antenna phases to zero!\n",
    "gains[0,0,:,0,:]=np.abs(gains[0,0,:,0,:])\n",
    "test_gains=stefcal_perfect.uvcal_from_data()\n",
    "test_gains.gain_array=gains\n"
   ]
  },
  {
   "cell_type": "markdown",
   "metadata": {},
   "source": [
    "Set parameters in perfect calibration and run."
   ]
  },
  {
   "cell_type": "code",
   "execution_count": 5,
   "metadata": {
    "collapsed": false
   },
   "outputs": [],
   "source": [
    "#read in uvfits data and model files\n",
    "#set calibration parameters\n",
    "stefcal_perfect.set_params({'trim_neff':False,\n",
    "                           'min_ant_times':1,\n",
    "                           'eps':1e-10,\n",
    "                           'min_bl_per_ant':2,\n",
    "                           'n_cycles':1,\n",
    "                           'n_phase_iter':5,\n",
    "                           'refant':0,\n",
    "                           't_avg':1})      \n",
    "\n",
    "stefcal_perfect.measured_vis=suv.correct_vis(stefcal_perfect.measured_vis,test_gains,applyGains=True)\n",
    "stefcal_perfect.stefcalibrate()\n",
    "stefcal_perfect.measured_vis=suv.correct_vis(stefcal_perfect.measured_vis,test_gains)\n",
    "gains_estimated=stefcal_perfect.uvcal.gain_array"
   ]
  },
  {
   "cell_type": "markdown",
   "metadata": {},
   "source": [
    "Now run calibration for an incomplete model with no attemp to weight the visibilities. "
   ]
  },
  {
   "cell_type": "code",
   "execution_count": 6,
   "metadata": {
    "collapsed": false
   },
   "outputs": [],
   "source": [
    "#read in uvfits data and model files\n",
    "stefcal_errors=StefcalUVData()\n",
    "stefcal_errors.from_uvfits(complete_vis_path,incomplete_vis_path,\n",
    "                           flag_weights_fromdata=True)    \n",
    "\n",
    "\n",
    "stefcal_errors.measured_vis.data_array=stefcal_errors.measured_vis.data_array.astype('complex128')\n",
    "stefcal_errors.model_vis.data_array=stefcal_errors.model_vis.data_array.astype('complex128')\n",
    "\n",
    "#set calibration parameters\n",
    "stefcal_errors.set_params({'trim_neff':False,\n",
    "                           'min_ant_times':1,\n",
    "                           'eps':1e-10,\n",
    "                           'min_bl_per_ant':2,\n",
    "                           'n_cycles':3,\n",
    "                           'n_phase_iter':5,\n",
    "                           'refant':0,\n",
    "                           't_avg':1})      \n",
    "freqs=stefcal_errors.measured_vis.freq_array\n",
    "npol=stefcal_errors.measured_vis.Npols\n",
    "nant=stefcal_errors.measured_vis.Nants_data\n"
   ]
  },
  {
   "cell_type": "code",
   "execution_count": 7,
   "metadata": {
    "collapsed": true
   },
   "outputs": [],
   "source": [
    "stefcal_errors.measured_vis=suv.correct_vis(stefcal_errors.measured_vis,test_gains,applyGains=True)\n",
    "stefcal_errors.stefcalibrate()\n",
    "stefcal_errors.measured_vis=suv.correct_vis(stefcal_errors.measured_vis,test_gains)\n",
    "gains_estimated_errors=stefcal_errors.uvcal.gain_array"
   ]
  },
  {
   "cell_type": "markdown",
   "metadata": {},
   "source": [
    "Generate weights and flags for weighted calibration. "
   ]
  },
  {
   "cell_type": "code",
   "execution_count": 8,
   "metadata": {
    "collapsed": false
   },
   "outputs": [
    {
     "name": "stdout",
     "output_type": "stream",
     "text": [
      "neff.min=2.00061893463\n",
      "nflag=53\n"
     ]
    }
   ],
   "source": [
    "#read in uvfits data and model files\n",
    "stefcal_weighted=StefcalUVData()\n",
    "stefcal_weighted.from_uvfits(complete_vis_path,incomplete_vis_path,\n",
    "                             flag_weights_fromdata=True)    \n",
    "\n",
    "#set_model_data(stefcal_weighted.model_vis,array_model)\n",
    "#set_model_data(stefcal_weighted.measured_vis,array_data)\n",
    "\n",
    "stefcal_weighted.measured_vis.data_array=stefcal_weighted.measured_vis.data_array.astype('complex128')\n",
    "stefcal_weighted.model_vis.data_array=stefcal_weighted.model_vis.data_array.astype('complex128')\n",
    "\n",
    "\n",
    "SIGMA_W=25.\n",
    "nflag,antflags,trimflags,weights=suv.generate_gaussian_weights(SIGMA_W,\n",
    "                                                               stefcal_weighted.model_vis,\n",
    "                                                               modelweights=True,\n",
    "                                                               trim_neff=True)"
   ]
  },
  {
   "cell_type": "markdown",
   "metadata": {},
   "source": [
    "set weighted calibration parameters."
   ]
  },
  {
   "cell_type": "code",
   "execution_count": 9,
   "metadata": {
    "collapsed": false,
    "scrolled": true
   },
   "outputs": [],
   "source": [
    "#set calibration parameters\n",
    "stefcal_weighted.set_params({'trim_neff':True,\n",
    "                             'min_ant_times':1,\n",
    "                             'eps':1e-10,\n",
    "                             'min_bl_per_ant':2,\n",
    "                             'n_cycles':10,\n",
    "                             'n_phase_iter':5,\n",
    "                             'refant':0,\n",
    "                             't_avg':1,\n",
    "                             'weights':weights,\n",
    "                             'flags':trimflags})     \n",
    "freqs=stefcal_weighted.measured_vis.freq_array\n",
    "npol=stefcal_weighted.measured_vis.Npols\n",
    "nant=stefcal_weighted.measured_vis.Nants_data\n"
   ]
  },
  {
   "cell_type": "markdown",
   "metadata": {},
   "source": [
    "run calibration. "
   ]
  },
  {
   "cell_type": "code",
   "execution_count": 10,
   "metadata": {
    "collapsed": false,
    "scrolled": true
   },
   "outputs": [],
   "source": [
    "\n",
    "stefcal_weighted.measured_vis=suv.correct_vis(stefcal_weighted.measured_vis,test_gains,applyGains=True)\n",
    "stefcal_weighted.stefcalibrate()\n",
    "stefcal_weighted.measured_vis=suv.correct_vis(stefcal_weighted.measured_vis,test_gains)\n",
    "gains_estimated_weighted=stefcal_weighted.uvcal.gain_array"
   ]
  },
  {
   "cell_type": "markdown",
   "metadata": {},
   "source": [
    "copy all three calibration solutions."
   ]
  },
  {
   "cell_type": "code",
   "execution_count": 14,
   "metadata": {
    "collapsed": false
   },
   "outputs": [],
   "source": [
    "imperfect_gains=copy.deepcopy(test_gains)\n",
    "imperfect_gains.gain_array=gains_estimated_errors"
   ]
  },
  {
   "cell_type": "code",
   "execution_count": 15,
   "metadata": {
    "collapsed": true
   },
   "outputs": [],
   "source": [
    "perfect_gains=copy.deepcopy(test_gains)\n",
    "perfect_gains.gain_array=gains_estimated"
   ]
  },
  {
   "cell_type": "code",
   "execution_count": 16,
   "metadata": {
    "collapsed": false
   },
   "outputs": [],
   "source": [
    "weighted_gains=copy.deepcopy(test_gains)\n",
    "weighted_gains.gain_array=gains_estimated_weighted"
   ]
  },
  {
   "cell_type": "markdown",
   "metadata": {},
   "source": [
    "Generate delay power-spectra of model-subtracted visibilities with the three different calibration solutions."
   ]
  },
  {
   "cell_type": "code",
   "execution_count": 17,
   "metadata": {
    "collapsed": false
   },
   "outputs": [],
   "source": [
    "bl_flags=np.empty(8182,dtype=bool);bl_flags[:]=False\n",
    "weighted_vis_flags=trimflags[:,0,0,0].squeeze()\n",
    "\n",
    "stefcal_errors.measured_vis=suv.correct_vis(stefcal_errors.measured_vis,\n",
    "                                            test_gains,applyGains=True)\n",
    "stefcal_errors.measured_vis=suv.correct_vis(stefcal_errors.measured_vis,\n",
    "                                            imperfect_gains)\n",
    "\n",
    "ps_kperp,ps_kpara,ps_imperfect=dg.delayTransformAndGrid((stefcal_errors.measured_vis.data_array.squeeze()-\\\n",
    "                                                        stefcal_errors.model_vis.data_array.squeeze()).T,\n",
    "                                                        np.linalg.norm(stefcal_errors.measured_vis.uvw_array,axis=1),\n",
    "                                                        stefcal_errors.measured_vis.freq_array[0][100],\n",
    "                                                        1e5,\n",
    "                                                        100,\n",
    "                                                        200,\n",
    "                                                        4.,\n",
    "                                                        weighted_vis_flags)\n",
    "\n",
    "stefcal_errors.measured_vis=suv.correct_vis(stefcal_errors.measured_vis,\n",
    "                                            imperfect_gains,applyGains=True)\n",
    "stefcal_errors.measured_vis=suv.correct_vis(stefcal_errors.measured_vis,\n",
    "                                            test_gains)\n",
    "\n",
    "\n",
    "stefcal_perfect.measured_vis=suv.correct_vis(stefcal_perfect.measured_vis,\n",
    "                                             test_gains,applyGains=True)\n",
    "stefcal_perfect.measured_vis=suv.correct_vis(stefcal_perfect.measured_vis,\n",
    "                                             perfect_gains)\n",
    "\n",
    "ps_kperp,ps_kpara,ps_perfect=dg.delayTransformAndGrid((stefcal_perfect.measured_vis.data_array.squeeze()-\\\n",
    "                                                      stefcal_errors.model_vis.data_array.squeeze()).T,\n",
    "                                                      np.linalg.norm(stefcal_perfect.measured_vis.uvw_array,axis=1),\n",
    "                                                      stefcal_perfect.measured_vis.freq_array[0][100],\n",
    "                                                      1e5,\n",
    "                                                      100,\n",
    "                                                      200,\n",
    "                                                      4.,\n",
    "                                                      weighted_vis_flags)\n",
    "\n",
    "stefcal_perfect.measured_vis=suv.correct_vis(stefcal_perfect.measured_vis,\n",
    "                                             perfect_gains,applyGains=True)\n",
    "stefcal_perfect.measured_vis=suv.correct_vis(stefcal_perfect.measured_vis,\n",
    "                                             test_gains)\n",
    "\n",
    "\n",
    "\n",
    "stefcal_weighted.measured_vis=suv.correct_vis(stefcal_weighted.measured_vis,\n",
    "                                              test_gains,applyGains=True)\n",
    "stefcal_weighted.measured_vis=suv.correct_vis(stefcal_weighted.measured_vis,\n",
    "                                              weighted_gains)\n",
    "\n",
    "ps_kperp,ps_kpara,ps_weighted=dg.delayTransformAndGrid((stefcal_weighted.measured_vis.data_array.squeeze()-\\\n",
    "                                                      stefcal_weighted.model_vis.data_array.squeeze()).T,\n",
    "                                                      np.linalg.norm(stefcal_weighted.measured_vis.uvw_array,axis=1),\n",
    "                                                      stefcal_weighted.measured_vis.freq_array[0][100],\n",
    "                                                      1e5,\n",
    "                                                      100,\n",
    "                                                      200,\n",
    "                                                      4.,\n",
    "                                                      weighted_vis_flags)\n",
    "\n",
    "stefcal_weighted.measured_vis=suv.correct_vis(stefcal_weighted.measured_vis,\n",
    "                                              weighted_gains,applyGains=True)\n",
    "stefcal_weighted.measured_vis=suv.correct_vis(stefcal_weighted.measured_vis,\n",
    "                                              test_gains)\n"
   ]
  },
  {
   "cell_type": "markdown",
   "metadata": {},
   "source": [
    "Make some psuedo-color plots. We see that the perfect foreground model contains errors within the wedge. The imperfect model leaks errors into the EoR window, and the weighted model preserves the EoR window on short baselines. "
   ]
  },
  {
   "cell_type": "code",
   "execution_count": 18,
   "metadata": {
    "collapsed": false
   },
   "outputs": [
    {
     "name": "stderr",
     "output_type": "stream",
     "text": [
      "divide by zero encountered in log10\n",
      "divide by zero encountered in log10\n",
      "divide by zero encountered in log10\n"
     ]
    },
    {
     "data": {
      "image/png": "[encoded data removed]",
      "text/plain": [
       "<matplotlib.figure.Figure at 0x7f46388c9610>"
      ]
     },
     "metadata": {},
     "output_type": "display_data"
    }
   ],
   "source": [
    "fig=plt.figure()\n",
    "axarr=[fig.add_axes([.1+m/3.,.1,1./3,.8]) for m in range(3)]\n",
    "ps_kperpg,ps_kparag=np.meshgrid(ps_kperp,ps_kpara)\n",
    "\n",
    "psplot_perfect=np.log10(np.abs(ps_perfect*(86e-3/5.)**1.25))\n",
    "psplot_perfect[np.isnan(psplot_perfect)]=0.\n",
    "psplot_perfect[np.isinf(psplot_perfect)]=0.\n",
    "\n",
    "psplot_errors=np.log10(np.abs(ps_imperfect*(86e-3/5.)**1.25))\n",
    "psplot_errors[np.isnan(psplot_errors)]=0.\n",
    "psplot_errors[np.isinf(psplot_errors)]=0.\n",
    "\n",
    "\n",
    "psplot_weighted=np.log10(np.abs(ps_weighted*(86e-3/5.)**1.25))\n",
    "psplot_weighted[np.isnan(psplot_weighted)]=0.\n",
    "psplot_weighted[np.isinf(psplot_weighted)]=0.\n",
    "\n",
    "\n",
    "axarr[0].pcolor(ps_kperpg,ps_kparag,psplot_perfect,vmin=3,vmax=13,cmap='inferno')\n",
    "axarr[1].pcolor(ps_kperpg,ps_kparag,psplot_errors,vmin=3,vmax=13,cmap='inferno')\n",
    "axarr[2].pcolor(ps_kperpg,ps_kparag,psplot_weighted,vmin=3,vmax=13,cmap='inferno')\n",
    "\n",
    "for m in range(3):\n",
    "    axarr[m].set_xscale('log')\n",
    "    axarr[m].set_yscale('log')\n",
    "    axarr[m].set_xlim(1e-2,2e-1)\n",
    "    axarr[m].set_ylim(1e-2,3)\n",
    "\n"
   ]
  }
 ],
 "metadata": {
  "kernelspec": {
   "display_name": "Python 2",
   "language": "python",
   "name": "python2"
  },
  "language_info": {
   "codemirror_mode": {
    "name": "ipython",
    "version": 2
   },
   "file_extension": ".py",
   "mimetype": "text/x-python",
   "name": "python",
   "nbconvert_exporter": "python",
   "pygments_lexer": "ipython2",
   "version": "2.7.13"
  }
 },
 "nbformat": 4,
 "nbformat_minor": 2
}
