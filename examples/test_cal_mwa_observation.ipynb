{
 "cells": [
  {
   "cell_type": "markdown",
   "metadata": {},
   "source": [
    "In this notebook, we inspect the performance of weighted stefcal on a single MWA observation."
   ]
  },
  {
   "cell_type": "code",
   "execution_count": 1,
   "metadata": {
    "collapsed": false
   },
   "outputs": [],
   "source": [
    "%matplotlib inline\n",
    "import numpy as np\n",
    "import matplotlib.pyplot as plt\n",
    "import os\n",
    "from stefcal_uvdata import StefcalUVData\n",
    "from data import DATA_PATH\n",
    "import matplotlib.pyplot as plt\n",
    "import delayGridding as dg\n",
    "import stefcal_utils as suv\n",
    "import copy"
   ]
  },
  {
   "cell_type": "code",
   "execution_count": 2,
   "metadata": {
    "collapsed": false
   },
   "outputs": [],
   "source": [
    "#initialize stefcal object \n",
    "data_vis_path=os.path.join(DATA_PATH,'mwa_data/1061315448_vis_XX.sav')\n",
    "model_vis_path=os.path.join(DATA_PATH,'mwa_data/1061315448_vis_model_XX.sav')"
   ]
  },
  {
   "cell_type": "code",
   "execution_count": 4,
   "metadata": {
    "collapsed": false
   },
   "outputs": [
    {
     "ename": "TypeError",
     "evalue": "from_fhd() got multiple values for keyword argument 'flag_weights_fromdata'",
     "output_type": "error",
     "traceback": [
      "\u001b[0;31m---------------------------------------------------------------------------\u001b[0m",
      "\u001b[0;31mTypeError\u001b[0m                                 Traceback (most recent call last)",
      "\u001b[0;32m<ipython-input-4-1e4f5553e8af>\u001b[0m in \u001b[0;36m<module>\u001b[0;34m()\u001b[0m\n\u001b[1;32m      1\u001b[0m \u001b[0mstefcal_test\u001b[0m\u001b[0;34m=\u001b[0m\u001b[0mStefcalUVData\u001b[0m\u001b[0;34m(\u001b[0m\u001b[0;34m)\u001b[0m\u001b[0;34m\u001b[0m\u001b[0m\n\u001b[0;32m----> 2\u001b[0;31m \u001b[0mstefcal_test\u001b[0m\u001b[0;34m.\u001b[0m\u001b[0mfrom_fhd\u001b[0m\u001b[0;34m(\u001b[0m\u001b[0mdata_vis_path\u001b[0m\u001b[0;34m,\u001b[0m\u001b[0mmodel_vis_path\u001b[0m\u001b[0;34m,\u001b[0m\u001b[0mflag_weights_fromdata\u001b[0m\u001b[0;34m=\u001b[0m\u001b[0mTrue\u001b[0m\u001b[0;34m)\u001b[0m\u001b[0;34m\u001b[0m\u001b[0m\n\u001b[0m",
      "\u001b[0;31mTypeError\u001b[0m: from_fhd() got multiple values for keyword argument 'flag_weights_fromdata'"
     ]
    }
   ],
   "source": [
    "stefcal_test=StefcalUVData()\n",
    "stefcal_test.from_fhd(data_vis_path,model_vis_path,flag_weights_fromdata=True)"
   ]
  },
  {
   "cell_type": "code",
   "execution_count": null,
   "metadata": {
    "collapsed": true
   },
   "outputs": [],
   "source": []
  }
 ],
 "metadata": {
  "kernelspec": {
   "display_name": "Python 2",
   "language": "python",
   "name": "python2"
  },
  "language_info": {
   "codemirror_mode": {
    "name": "ipython",
    "version": 2
   },
   "file_extension": ".py",
   "mimetype": "text/x-python",
   "name": "python",
   "nbconvert_exporter": "python",
   "pygments_lexer": "ipython2",
   "version": "2.7.13"
  }
 },
 "nbformat": 4,
 "nbformat_minor": 2
}
