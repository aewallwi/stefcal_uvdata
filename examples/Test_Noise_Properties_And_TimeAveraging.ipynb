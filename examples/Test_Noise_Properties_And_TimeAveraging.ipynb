{
 "cells": [
  {
   "cell_type": "code",
   "execution_count": 1,
   "metadata": {
    "collapsed": true
   },
   "outputs": [],
   "source": [
    "%matplotlib inline\n",
    "import numpy as np\n",
    "import matplotlib.pyplot as plt\n",
    "import os\n",
    "from stefcal_uvdata import StefcalUVData\n",
    "from data import DATA_PATH\n",
    "import matplotlib.pyplot as plt"
   ]
  },
  {
   "cell_type": "markdown",
   "metadata": {},
   "source": [
    "In this notebook, we test the time-averaging of calibration solutions and whether the noise properties of the calibration solutions make sense. If the thermal noise on a single visibility and time-sample is given by $\\sigma_N$, then the thermal noise on a calibration solution with a point-source calibrator with flux $S_0$ for an array of $N_{ant}$ antennas is given by\n",
    "\\begin{equation}\n",
    "\\sigma_g=\\frac{\\sigma_N}{S_0}\\frac{1}{\\sqrt{N_t(N_{ant}-1)}}\n",
    "\\end{equation}\n",
    "In this simulation we will check that this relationship by performing calibration on a simulated VLA measurement. "
   ]
  },
  {
   "cell_type": "code",
   "execution_count": 2,
   "metadata": {
    "collapsed": false
   },
   "outputs": [
    {
     "name": "stderr",
     "output_type": "stream",
     "text": [
      "Telescope VLA is not in known_telescopes.\n",
      "boolean index did not match indexed array along dimension 0; dimension is 27 but corresponding boolean dimension is 1\n"
     ]
    }
   ],
   "source": [
    "#initialize stefcal object \n",
    "stefcal_no_avg=StefcalUVData()\n",
    "measured_vis=os.path.join(DATA_PATH,\n",
    "                         'point_source_sim_measurement.uvfits')\n",
    "model_vis=os.path.join(DATA_PATH,\n",
    "                       'point_source_sim_model.uvfits')\n",
    "#read in uvfits data and model files\n",
    "stefcal_no_avg.from_uvfits(measured_vis,model_vis,\n",
    "                           flag_weights_fromdata=True)\n",
    "#set calibration parameters\n",
    "stefcal_no_avg.set_params({'trim_neff':False,\n",
    "                           'min_ant_times':1,\n",
    "                           'eps':1e-10,\n",
    "                           'min_bl_per_ant':2,\n",
    "                           'n_cycles':1,\n",
    "                           'n_phase_iter':0,\n",
    "                           'refant':0})      \n",
    "#run calibration\n",
    "stefcal_no_avg.stefcalibrate()"
   ]
  },
  {
   "cell_type": "markdown",
   "metadata": {},
   "source": [
    "Now that we have run a round of calibration, lets inspect\n",
    "the noise on each baseline. Since the model is a point-source at zenith, there is very little change in the true visibility with time, even across all time intervals. Taking the standard deviation across all baselines and times gives us a number that is within good agreement with the noise estimate arrived upon by differencing adjacent time stamps and averaging the square of this difference across all baselines and adjacent time-step differences ($1\\,\\%$ agreement). \n"
   ]
  },
  {
   "cell_type": "code",
   "execution_count": 3,
   "metadata": {
    "collapsed": false
   },
   "outputs": [
    {
     "name": "stdout",
     "output_type": "stream",
     "text": [
      "-1.1-percent difference in estimated noises\n"
     ]
    },
    {
     "data": {
      "image/png": "[encoded data removed]",
      "text/plain": [
       "<matplotlib.figure.Figure at 0x10f82d650>"
      ]
     },
     "metadata": {},
     "output_type": "display_data"
    }
   ],
   "source": [
    "data_select=\\\n",
    "stefcal_no_avg.measured_vis.time_array==stefcal_no_avg.uvcal.time_array[0]\n",
    "data_select[:]=True\n",
    "plt.hist(np.real(stefcal_no_avg.measured_vis.data_array[data_select].flatten()),bins=20)\n",
    "std_data=np.std(np.real(stefcal_no_avg.measured_vis.data_array[data_select].flatten()))\n",
    "std_diffed=np.sqrt(stefcal_no_avg.meta_params.noise_tblavg)/np.sqrt(2.)\n",
    "print('%.1f-percent difference in estimated noises'%(100.*(1.-std_diffed/std_data)[0]))\n",
    "plt.axvline(1-std_diffed,color='r',ls='--')\n",
    "plt.axvline(1+std_diffed,color='r',ls='--')\n",
    "plt.grid()"
   ]
  },
  {
   "cell_type": "markdown",
   "metadata": {},
   "source": [
    "Now lets compute the standard deviation of gain estimates. Since all of the true-gains are equal to identity in this simulation, their standard deviations will reflect the noise in the gain solutions. We find excellent (0.1%) agreement between the standard deviation in the gain solutions and the standard deviation predicted by \n",
    "\\begin{equation}\n",
    "\\sigma_g=\\frac{\\sigma_N}{S_0}\\frac{1}{\\sqrt{N_t(N_{ant}-1)}}\n",
    "\\end{equation}"
   ]
  },
  {
   "cell_type": "code",
   "execution_count": 4,
   "metadata": {
    "collapsed": false
   },
   "outputs": [
    {
     "name": "stdout",
     "output_type": "stream",
     "text": [
      "0.1-percent difference in estimated noises\n"
     ]
    },
    {
     "data": {
      "text/plain": [
       "<matplotlib.lines.Line2D at 0x11398bd50>"
      ]
     },
     "execution_count": 4,
     "metadata": {},
     "output_type": "execute_result"
    },
    {
     "data": {
      "image/png": "[encoded data removed]",
      "text/plain": [
       "<matplotlib.figure.Figure at 0x117a2ed90>"
      ]
     },
     "metadata": {},
     "output_type": "display_data"
    }
   ],
   "source": [
    "plt.hist(np.real(stefcal_no_avg.uvcal.gain_array.flatten()),bins=20)\n",
    "plt.xlabel('Re(gain)')\n",
    "plt.ylabel('Counts')\n",
    "plt.grid()\n",
    "gain_std_est=std_diffed/np.sqrt(stefcal_no_avg.uvcal.Nants_data-1.)\n",
    "gain_std_re=np.std(np.real(stefcal_no_avg.uvcal.gain_array.flatten()))\n",
    "gain_std_im=np.std(np.real(stefcal_no_avg.uvcal.gain_array.flatten()))\n",
    "print('%.1f-percent difference in estimated noises'%(100.*(1.-gain_std_re/gain_std_est)[0]))\n",
    "plt.axvline(1-gain_std_est,color='r',ls='--')\n",
    "plt.axvline(1+gain_std_est,color='r',ls='--')"
   ]
  },
  {
   "cell_type": "markdown",
   "metadata": {},
   "source": [
    "# Testing Time Averaging. "
   ]
  },
  {
   "cell_type": "markdown",
   "metadata": {},
   "source": [
    "Now we investigate averaging calibration solutions over multiple times. We start by averaging over 3 time-samples per solution which should reduce the noise by a factor of $\\approx 1.7$. "
   ]
  },
  {
   "cell_type": "code",
   "execution_count": 6,
   "metadata": {
    "collapsed": false,
    "scrolled": false
   },
   "outputs": [
    {
     "name": "stderr",
     "output_type": "stream",
     "text": [
      "boolean index did not match indexed array along dimension 0; dimension is 27 but corresponding boolean dimension is 3\n"
     ]
    }
   ],
   "source": [
    "#initialize stefcal object \n",
    "stefcal_3_avg=StefcalUVData()\n",
    "measured_vis=os.path.join(DATA_PATH,\n",
    "                         'point_source_sim_measurement.uvfits')\n",
    "model_vis=os.path.join(DATA_PATH,\n",
    "                       'point_source_sim_model.uvfits')\n",
    "#read in uvfits data and model files\n",
    "stefcal_3_avg.from_uvfits(measured_vis,model_vis,\n",
    "                           flag_weights_fromdata=True)\n",
    "#set calibration parameters\n",
    "stefcal_3_avg.set_params({'trim_neff':False,\n",
    "                           'min_ant_times':1,\n",
    "                           'eps':1e-10,\n",
    "                           'min_bl_per_ant':2,\n",
    "                           'n_cycles':1,\n",
    "                           'n_phase_iter':0,\n",
    "                           'refant':0,\n",
    "                           't_avg':3})\n",
    "#run calibration\n",
    "stefcal_3_avg.stefcalibrate()"
   ]
  },
  {
   "cell_type": "markdown",
   "metadata": {},
   "source": [
    "There is only a 0.2\\% difference between the noise on the 3-time step averaged solutions\n",
    "and the predicted interval!"
   ]
  },
  {
   "cell_type": "code",
   "execution_count": 12,
   "metadata": {
    "collapsed": false
   },
   "outputs": [
    {
     "name": "stdout",
     "output_type": "stream",
     "text": [
      "-0.2-percent difference in estimated noises\n"
     ]
    },
    {
     "data": {
      "text/plain": [
       "<matplotlib.lines.Line2D at 0x1142922d0>"
      ]
     },
     "execution_count": 12,
     "metadata": {},
     "output_type": "execute_result"
    },
    {
     "data": {
      "image/png": "[encoded data removed]",
      "text/plain": [
       "<matplotlib.figure.Figure at 0x1142921d0>"
      ]
     },
     "metadata": {},
     "output_type": "display_data"
    }
   ],
   "source": [
    "plt.hist(np.real(stefcal_3_avg.uvcal.gain_array.flatten()),bins=20)\n",
    "\n",
    "\n",
    "\n",
    "plt.xlabel('Re(gain)')\n",
    "plt.ylabel('Counts')\n",
    "plt.grid()\n",
    "gain_std_est=std_diffed/np.sqrt(3*(stefcal_3_avg.uvcal.Nants_data-1.))\n",
    "gain_std_re=np.std(np.real(stefcal_3_avg.uvcal.gain_array.flatten()))\n",
    "gain_std_im=np.std(np.real(stefcal_3_avg.uvcal.gain_array.flatten()))\n",
    "print('%.1f-percent difference in estimated noises'%(100.*(1.-gain_std_re/gain_std_est)[0]))\n",
    "plt.axvline(1-gain_std_est,color='r',ls='--')\n",
    "plt.axvline(1+gain_std_est,color='r',ls='--')"
   ]
  },
  {
   "cell_type": "markdown",
   "metadata": {},
   "source": [
    "Here is a comparison between the two distributions. "
   ]
  },
  {
   "cell_type": "code",
   "execution_count": 15,
   "metadata": {
    "collapsed": false
   },
   "outputs": [
    {
     "data": {
      "text/plain": [
       "<matplotlib.legend.Legend at 0x114993890>"
      ]
     },
     "execution_count": 15,
     "metadata": {},
     "output_type": "execute_result"
    },
    {
     "data": {
      "image/png": "[encoded data removed]",
      "text/plain": [
       "<matplotlib.figure.Figure at 0x1149938d0>"
      ]
     },
     "metadata": {},
     "output_type": "display_data"
    }
   ],
   "source": [
    "plt.hist(np.real(stefcal_no_avg.uvcal.gain_array.flatten()),bins=20,normed=True,label='No Average')\n",
    "plt.hist(np.real(stefcal_3_avg.uvcal.gain_array.flatten()),bins=20,normed=True,label='3-Average')\n",
    "\n",
    "\n",
    "\n",
    "plt.xlabel('Re(gain)')\n",
    "plt.ylabel('Normalized Counts')\n",
    "plt.grid()\n",
    "plt.legend(loc='best')"
   ]
  },
  {
   "cell_type": "markdown",
   "metadata": {},
   "source": [
    "Try averaging 10 just for fun. "
   ]
  },
  {
   "cell_type": "code",
   "execution_count": 16,
   "metadata": {
    "collapsed": false
   },
   "outputs": [
    {
     "name": "stderr",
     "output_type": "stream",
     "text": [
      "boolean index did not match indexed array along dimension 0; dimension is 27 but corresponding boolean dimension is 10\n"
     ]
    }
   ],
   "source": [
    "#initialize stefcal object \n",
    "stefcal_10_avg=StefcalUVData()\n",
    "measured_vis=os.path.join(DATA_PATH,\n",
    "                         'point_source_sim_measurement.uvfits')\n",
    "model_vis=os.path.join(DATA_PATH,\n",
    "                       'point_source_sim_model.uvfits')\n",
    "#read in uvfits data and model files\n",
    "stefcal_10_avg.from_uvfits(measured_vis,model_vis,\n",
    "                           flag_weights_fromdata=True)\n",
    "#set calibration parameters\n",
    "stefcal_10_avg.set_params({'trim_neff':False,\n",
    "                           'min_ant_times':1,\n",
    "                           'eps':1e-10,\n",
    "                           'min_bl_per_ant':2,\n",
    "                           'n_cycles':1,\n",
    "                           'n_phase_iter':0,\n",
    "                           'refant':0,\n",
    "                           't_avg':10})\n",
    "#run calibration\n",
    "stefcal_10_avg.stefcalibrate()"
   ]
  },
  {
   "cell_type": "markdown",
   "metadata": {},
   "source": [
    "There is a larger (1-percent) discrepency due to smaller numbers of gain-samples due to increased averaging but still good agreement. "
   ]
  },
  {
   "cell_type": "code",
   "execution_count": 19,
   "metadata": {
    "collapsed": false
   },
   "outputs": [
    {
     "name": "stdout",
     "output_type": "stream",
     "text": [
      "1.4-percent difference in estimated noises\n"
     ]
    },
    {
     "data": {
      "text/plain": [
       "<matplotlib.lines.Line2D at 0x11494bdd0>"
      ]
     },
     "execution_count": 19,
     "metadata": {},
     "output_type": "execute_result"
    },
    {
     "data": {
      "image/png": "[encoded data removed]",
      "text/plain": [
       "<matplotlib.figure.Figure at 0x11493bdd0>"
      ]
     },
     "metadata": {},
     "output_type": "display_data"
    }
   ],
   "source": [
    "plt.hist(np.real(stefcal_10_avg.uvcal.gain_array.flatten()),bins=20)\n",
    "\n",
    "\n",
    "\n",
    "plt.xlabel('Re(gain)')\n",
    "plt.ylabel('Counts')\n",
    "plt.grid()\n",
    "gain_std_est=std_diffed/np.sqrt(10*(stefcal_10_avg.uvcal.Nants_data-1.))\n",
    "gain_std_re=np.std(np.real(stefcal_10_avg.uvcal.gain_array.flatten()))\n",
    "gain_std_im=np.std(np.real(stefcal_10_avg.uvcal.gain_array.flatten()))\n",
    "print('%.1f-percent difference in estimated noises'%(100.*(1.-gain_std_re/gain_std_est)[0]))\n",
    "plt.axvline(1-gain_std_est,color='r',ls='--')\n",
    "plt.axvline(1+gain_std_est,color='r',ls='--')"
   ]
  },
  {
   "cell_type": "code",
   "execution_count": 18,
   "metadata": {
    "collapsed": false
   },
   "outputs": [
    {
     "data": {
      "text/plain": [
       "<matplotlib.legend.Legend at 0x114800e90>"
      ]
     },
     "execution_count": 18,
     "metadata": {},
     "output_type": "execute_result"
    },
    {
     "data": {
      "image/png": "[encoded data removed]",
      "text/plain": [
       "<matplotlib.figure.Figure at 0x114eb5250>"
      ]
     },
     "metadata": {},
     "output_type": "display_data"
    }
   ],
   "source": [
    "plt.hist(np.real(stefcal_no_avg.uvcal.gain_array.flatten()),bins=20,normed=True,label='No Average')\n",
    "plt.hist(np.real(stefcal_3_avg.uvcal.gain_array.flatten()),bins=20,normed=True,label='3-Average')\n",
    "plt.hist(np.real(stefcal_10_avg.uvcal.gain_array.flatten()),bins=20,normed=True,label='10-Average')\n",
    "\n",
    "\n",
    "\n",
    "\n",
    "plt.xlabel('Re(gain)')\n",
    "plt.ylabel('Normalized Counts')\n",
    "plt.grid()\n",
    "plt.legend(loc='best')"
   ]
  },
  {
   "cell_type": "code",
   "execution_count": null,
   "metadata": {
    "collapsed": true
   },
   "outputs": [],
   "source": []
  }
 ],
 "metadata": {
  "kernelspec": {
   "display_name": "Python 2",
   "language": "python",
   "name": "python2"
  },
  "language_info": {
   "codemirror_mode": {
    "name": "ipython",
    "version": 2
   },
   "file_extension": ".py",
   "mimetype": "text/x-python",
   "name": "python",
   "nbconvert_exporter": "python",
   "pygments_lexer": "ipython2",
   "version": "2.7.12"
  }
 },
 "nbformat": 4,
 "nbformat_minor": 1
}
